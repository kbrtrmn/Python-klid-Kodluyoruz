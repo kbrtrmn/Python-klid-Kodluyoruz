{
 "cells": [
  {
   "cell_type": "code",
   "execution_count": 1,
   "id": "b4dc63a3-31ba-4e15-98c8-3022d5d93541",
   "metadata": {},
   "outputs": [
    {
     "name": "stdout",
     "output_type": "stream",
     "text": [
      "Tüm noktalar arasındaki mesafeler: [5.0, 8.48528137423857, 1.4142135623730951, 8.602325267042627, 3.605551275463989, 3.605551275463989, 3.605551275463989, 7.0710678118654755, 1.4142135623730951, 7.211102550927978]\n",
      "Minimum Öklid Mesafesi: 1.4142135623730951\n"
     ]
    }
   ],
   "source": [
    "import math\n",
    "\n",
    "# Öklid Mesafesi hesaplayan fonksiyon\n",
    "def euclideanDistance(point1, point2):\n",
    "    # Öklid mesafesi formülü: √((x2 - x1)² + (y2 - y1)²)\n",
    "    return math.sqrt((point2[0] - point1[0])**2 + (point2[1] - point1[1])**2)\n",
    "\n",
    "\n",
    "points = [(1, 2), (4, 6), (7, 8), (2, 3), (6, 9)]\n",
    "\n",
    "\n",
    "distances = []\n",
    "for i in range(len(points)):\n",
    "    for j in range(i + 1, len(points)):  # Her bir nokta çiftini karşılaştır\n",
    "        dist = euclideanDistance(points[i], points[j])\n",
    "        distances.append(dist)\n",
    "\n",
    "\n",
    "min_distance = min(distances)\n",
    "\n",
    "\n",
    "print(f\"Tüm noktalar arasındaki mesafeler: {distances}\")\n",
    "print(f\"Minimum Öklid Mesafesi: {min_distance}\")\n"
   ]
  },
  {
   "cell_type": "code",
   "execution_count": null,
   "id": "41bb2e4b-d82b-442a-a94b-ec1a1b79abd2",
   "metadata": {},
   "outputs": [],
   "source": []
  }
 ],
 "metadata": {
  "kernelspec": {
   "display_name": "Python 3 (ipykernel)",
   "language": "python",
   "name": "python3"
  },
  "language_info": {
   "codemirror_mode": {
    "name": "ipython",
    "version": 3
   },
   "file_extension": ".py",
   "mimetype": "text/x-python",
   "name": "python",
   "nbconvert_exporter": "python",
   "pygments_lexer": "ipython3",
   "version": "3.13.1"
  }
 },
 "nbformat": 4,
 "nbformat_minor": 5
}
